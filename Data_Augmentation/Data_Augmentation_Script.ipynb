{
 "cells": [
  {
   "cell_type": "code",
   "execution_count": null,
   "metadata": {},
   "outputs": [],
   "source": [
    "import os\n",
    "import numpy as np\n",
    "import librosa\n",
    "import librosa.display\n",
    "import soundfile as sf\n",
    "\n"
   ]
  },
  {
   "cell_type": "code",
   "execution_count": null,
   "metadata": {},
   "outputs": [],
   "source": [
    "# Augmentation Functions\n",
    "def subtle_time_stretch(audio, rate_range=(0.95, 1.05)):\n",
    "    rate = np.random.uniform(*rate_range)\n",
    "    return librosa.effects.time_stretch(audio, rate)\n",
    "\n",
    "def subtle_pitch_shift(audio, sr, pitch_range=(-1, 1)):\n",
    "    steps = np.random.uniform(*pitch_range)\n",
    "    return librosa.effects.pitch_shift(audio, sr, n_steps=steps)\n",
    "\n",
    "def add_low_amplitude_noise(audio, noise_factor=0.005):\n",
    "    noise = np.random.randn(len(audio))\n",
    "    return audio + noise_factor * noise\n",
    "\n",
    "def dynamic_range_compression(audio, compression_factor=0.1):\n",
    "    return audio * (1.0 + np.random.uniform(-compression_factor, compression_factor))\n",
    "\n",
    "def frequency_masking(audio, sr, mask_ratio=0.1):\n",
    "    # Convert to spectrogram\n",
    "    S = librosa.stft(audio)\n",
    "    S_db = librosa.amplitude_to_db(np.abs(S))\n",
    "    num_bands = int(S_db.shape[0] * mask_ratio)\n",
    "    band_start = np.random.randint(0, S_db.shape[0] - num_bands)\n",
    "    S_db[band_start:band_start + num_bands, :] = -80  # Mask by setting low dB\n",
    "    # Convert back to audio\n",
    "    S = librosa.db_to_amplitude(S_db)\n",
    "    return librosa.istft(S)\n",
    "\n"
   ]
  },
  {
   "cell_type": "code",
   "execution_count": null,
   "metadata": {},
   "outputs": [],
   "source": [
    "# Augmentation Pipeline\n",
    "def augment_heartbeat_audio(input_dir, output_dir, sr=22050, augmentations_per_file=3):\n",
    "    if not os.path.exists(output_dir):\n",
    "        os.makedirs(output_dir)\n",
    "\n",
    "    for class_name in os.listdir(input_dir):\n",
    "        class_input_dir = os.path.join(input_dir, class_name)\n",
    "        class_output_dir = os.path.join(output_dir, class_name)\n",
    "\n",
    "        if not os.path.exists(class_output_dir):\n",
    "            os.makedirs(class_output_dir)\n",
    "\n",
    "        for file_name in os.listdir(class_input_dir):\n",
    "            file_path = os.path.join(class_input_dir, file_name)\n",
    "            audio, sr = librosa.load(file_path, sr=sr)\n",
    "\n",
    "            # Save original audio (optional)\n",
    "            sf.write(os.path.join(class_output_dir, file_name), audio, sr)\n",
    "\n",
    "            for i in range(augmentations_per_file):\n",
    "                augmented_audio = audio\n",
    "\n",
    "                # Apply subtle augmentations randomly\n",
    "                if np.random.rand() < 0.5:\n",
    "                    augmented_audio = subtle_time_stretch(augmented_audio)\n",
    "                if np.random.rand() < 0.5:\n",
    "                    augmented_audio = subtle_pitch_shift(augmented_audio, sr)\n",
    "                if np.random.rand() < 0.5:\n",
    "                    augmented_audio = add_low_amplitude_noise(augmented_audio)\n",
    "                if np.random.rand() < 0.5:\n",
    "                    augmented_audio = dynamic_range_compression(augmented_audio)\n",
    "                if np.random.rand() < 0.5:\n",
    "                    augmented_audio = frequency_masking(augmented_audio, sr)\n",
    "\n",
    "                # Save the augmented file\n",
    "                augmented_file_name = f\"{os.path.splitext(file_name)[0]}_aug{i}.wav\"\n",
    "                sf.write(os.path.join(class_output_dir, augmented_file_name), augmented_audio, sr)\n",
    "\n",
    "                print(f\"Augmented file {augmented_file_name} created for class {class_name}\")\n"
   ]
  }
 ],
 "metadata": {
  "language_info": {
   "name": "python"
  }
 },
 "nbformat": 4,
 "nbformat_minor": 2
}
